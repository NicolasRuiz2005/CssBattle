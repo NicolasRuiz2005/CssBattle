{
 "cells": [
  {
   "cell_type": "markdown",
   "metadata": {},
   "source": [
    "# Css Battle\n",
    "\n",
    "## Bienvenu sur ce noteBook Jupyter\n",
    "Ce projet retrace tous mes css battle de jour en jour. </br> \n",
    "Css Battle est un site qui consiste à devoir reproduire une figure donnée en html/CSS. </br> <br> \n",
    "Le but étant de fournir le code contenant le moins de caractère possible afin de gagner le plus de points. </br>\n",
    "Le site Css Battle propose des niveaux quotidient, voici l'url du site : https://cssbattle.dev/ </br><br> \n",
    "Ainsi je vais vous partager tous lse niveaux de css battle que j'effectue tous les jours. <br> \n",
    "Pour cela je vous mettrait d'abord l'image à reproduire et ensuite le code classique pour reproduire l'image et enfin le code optimisé c'est-à-dire le code qui permet de gagner le plus de point en retirant le plus d'espace possible par exemple.       </br> </br> </br>\n",
    "\n",
    "\n"
   ]
  },
  {
   "cell_type": "markdown",
   "metadata": {},
   "source": [
    "### Niveau quotidieny du 09/03/2024 : \n",
    "\n",
    "<img src = \"https://firebasestorage.googleapis.com/v0/b/cssbattleapp.appspot.com/o/user%2Fummd3POvEDfFyeFvVdOMG3OOrwE2%2Ftargets%2Ftarget_IV5XxMP.png?alt=media\">\n",
    "\n",
    "Code Classique : "
   ]
  },
  {
   "cell_type": "code",
   "execution_count": null,
   "metadata": {
    "vscode": {
     "languageId": "html"
    }
   },
   "outputs": [],
   "source": [
    "<a></a>\n",
    "<b></b>\n",
    "<c></c>\n",
    "<style>\n",
    "  *{\n",
    "    background:#712B2B;position:fixed\n",
    "  }\n",
    "  a,b,c {\n",
    "    border:solid;\n",
    "    border-color:transparent transparent #D04A4C transparent;\n",
    "    border-width:37 100 151 100;\n",
    "    left:100;\n",
    "  }\n",
    "  b,c{\n",
    "    border-color:transparent transparent #F79091 transparent;\n",
    "    scale:0.405;\n",
    "    top:-26\n",
    "  }\n",
    "c{\n",
    "  rotate:180deg;\n",
    "  top:138;\n",
    "}\n"
   ]
  },
  {
   "cell_type": "markdown",
   "metadata": {},
   "source": [
    "Code Optimisé en une seule ligne : "
   ]
  },
  {
   "cell_type": "code",
   "execution_count": null,
   "metadata": {
    "vscode": {
     "languageId": "html"
    }
   },
   "outputs": [],
   "source": [
    "<a></a><b></b><c><style>*{background: #712B2B;position:fixed}a,b,c{border:solid ;border-color:transparent transparent #D04A4C transparent;border-width:37 100 151 100;left:100}b,c{border-color:transparent transparent #F79091 transparent;scale:0.405;top:-26}c{rotate:180deg;top:138}"
   ]
  },
  {
   "cell_type": "markdown",
   "metadata": {},
   "source": [
    "### Niveau quotidient du 08/03/2024 : \n",
    "\n",
    "<img src = \"https://firebasestorage.googleapis.com/v0/b/cssbattleapp.appspot.com/o/user%2Fummd3POvEDfFyeFvVdOMG3OOrwE2%2Ftargets%2Ftarget_PhjRF3i.png?alt=media\">\n",
    "\n",
    "Code Classique : "
   ]
  },
  {
   "cell_type": "code",
   "execution_count": null,
   "metadata": {
    "vscode": {
     "languageId": "html"
    }
   },
   "outputs": [],
   "source": [
    "<a></a>\n",
    "<b></b>\n",
    "<c></c>\n",
    "<style>\n",
    "  *{\n",
    "    background:#D5954D;position:fixed\n",
    "  }\n",
    "  a,b{\n",
    "    width:160;\n",
    "    height:300;\n",
    "    border:solid 20px#fff;\n",
    "    border-radius:9em;\n",
    "    left:100;top:120\n",
    "  }\n",
    "  b{\n",
    "    width:80;\n",
    "    left:140;top:160\n",
    "  }\n",
    "  c{\n",
    "    width:40;height:150;\n",
    "    background:#fff;\n",
    "    border-radius:9em;\n",
    "    left:180;top:-50;\n",
    "    box-shadow:0 264q #fff\n",
    "  }"
   ]
  },
  {
   "cell_type": "markdown",
   "metadata": {},
   "source": [
    "Code Optmisié en une seule ligne : "
   ]
  },
  {
   "cell_type": "markdown",
   "metadata": {},
   "source": [
    "<a></a><b></b><c><style>*{background: #D5954D;position:fixed}a,b{width:160;height:300;border:solid 20px #fff;border-radius:9em;left:100;top:120}b{width:80;left:140;top:160}c{width:40;height:150;background: #fff;border-radius:9em;left:180;top:-50;box-shadow:0 264q #fff"
   ]
  },
  {
   "cell_type": "markdown",
   "metadata": {},
   "source": [
    "### Niveau quotidient du 07/03/2024 : \n",
    "\n",
    "<img src = \"https://firebasestorage.googleapis.com/v0/b/cssbattleapp.appspot.com/o/user%2Fummd3POvEDfFyeFvVdOMG3OOrwE2%2Ftargets%2Ftarget_ofjegvb.png?alt=media\">\n",
    "\n",
    "Code Classique : "
   ]
  },
  {
   "cell_type": "code",
   "execution_count": null,
   "metadata": {
    "vscode": {
     "languageId": "html"
    }
   },
   "outputs": [],
   "source": [
    "<a></a>\n",
    "<b></b>\n",
    "<c>\n",
    "<style>\n",
    "  *{\n",
    "    background:#F28BBB;position:fixed\n",
    "  }\n",
    "  a,b,c {\n",
    "    width:150;\n",
    "    height:150;\n",
    "    background:#8B0051;\n",
    "    left:125;top:100\n",
    "  }\n",
    "  b,c{\n",
    "    width:90;height:80;\n",
    "    top:135;left:75;\n",
    "    border-radius:9em;\n",
    "    box-shadow:169q 0 #8B0051;\n",
    "  }\n",
    "  c{\n",
    "    rotate:90deg;\n",
    "    left:154;top:55;\n",
    "    box-shadow:158q 0 #F28BBB;\n",
    "  }"
   ]
  },
  {
   "cell_type": "markdown",
   "metadata": {},
   "source": [
    "Code Optimisé en une seule ligne : "
   ]
  },
  {
   "cell_type": "markdown",
   "metadata": {},
   "source": [
    "<a></a><b></b><c><style>*{background: #F28BBB;position:fixed}a,b,c{width:150;height:150;background: #8B0051;left:125;top:100}b,c{width:90;height:80;top:135;left:75;border-radius:9em;box-shadow:169q 0 #8B0051}c{rotate:90deg;left:154;top:55;box-shadow:158q 0 #F28BBB}"
   ]
  },
  {
   "cell_type": "markdown",
   "metadata": {},
   "source": [
    "### Niveau quotidient du 06/03/2024 : \n",
    "\n",
    "<img src = \"https://firebasestorage.googleapis.com/v0/b/cssbattleapp.appspot.com/o/user%2Fummd3POvEDfFyeFvVdOMG3OOrwE2%2Ftargets%2Ftarget_OCsLA1q.png?alt=media\">\n",
    "\n",
    "Code Classique : "
   ]
  },
  {
   "cell_type": "code",
   "execution_count": null,
   "metadata": {
    "vscode": {
     "languageId": "html"
    }
   },
   "outputs": [],
   "source": [
    "<a></a>\n",
    "<b></b>\n",
    "<c></c>\n",
    "<d></d>\n",
    "<e></e>\n",
    "<style>\n",
    "  *{\n",
    "    background:#5F0032;position:fixed\n",
    "  }\n",
    "  a,b,c,d,e {\n",
    "    width: 140px;\n",
    "    height: 40px;\n",
    "    background: #d9d9d9;\n",
    "    left:0;top:210;\n",
    "    box-shadow:275q -170q #D9D9D9\n",
    "  }\n",
    "  b{\n",
    "    width:40;\n",
    "    height:80;\n",
    "    left:100;top:130;\n",
    "    box-shadow:169q -43q #D9D9D9;\n",
    "  }\n",
    "  c{\n",
    "    left:30%;top:130;\n",
    "    box-shadow:none\n",
    "  }\n",
    "  d,e{\n",
    "    width:40;\n",
    "    left:100;top:50;\n",
    "    box-shadow:85q 0 #D9D9D9\n",
    "  }\n",
    "  e{\n",
    "    left:180;top:210;\n",
    "  }"
   ]
  },
  {
   "cell_type": "markdown",
   "metadata": {},
   "source": [
    "Code Optimisé en une seule ligne : "
   ]
  },
  {
   "cell_type": "code",
   "execution_count": null,
   "metadata": {
    "vscode": {
     "languageId": "html"
    }
   },
   "outputs": [],
   "source": [
    "<a></a><b></b><c></c><d></d><e></e><style>*{background: #5F0032;position:fixed}a,b,c,d,e{width:140px;height:40px;background: #d9d9d9;left:0;top:210;box-shadow:275q -170q #D9D9D9}b{width:40;height:80;left:100;top:130;box-shadow:169q -43q #D9D9D9}c{left:30%;top:130;box-shadow:none}d,e{width:40;left:100;top:50;box-shadow:85q 0 #D9D9D9}e{left:180;top:210}"
   ]
  },
  {
   "cell_type": "markdown",
   "metadata": {},
   "source": [
    "### Niveau quotidient du 05/03/2024 : \n",
    "\n",
    "<img src =\"https://firebasestorage.googleapis.com/v0/b/cssbattleapp.appspot.com/o/user%2Fummd3POvEDfFyeFvVdOMG3OOrwE2%2Ftargets%2Ftarget_qP6sBz9.png?alt=media\">\n",
    "\n",
    "Code Classique : "
   ]
  },
  {
   "cell_type": "code",
   "execution_count": null,
   "metadata": {
    "vscode": {
     "languageId": "html"
    }
   },
   "outputs": [],
   "source": [
    "<a></a>\n",
    "<b></b>\n",
    "<c></c>\n",
    "<style>\n",
    "  *{\n",
    "    background:#611B1A;position:fixed\n",
    "  }\n",
    "  a,b{\n",
    "    width:240;\n",
    "    height:290;\n",
    "    border:solid 40px#F16B4A;\n",
    "    border-radius:0 99em 0 0;\n",
    "    left:-16;top:-5;\n",
    "  }\n",
    "  b{\n",
    "    background:transparent;\n",
    "    border-radius:90em 0  0 0;\n",
    "    left:95;\n",
    "  }\n",
    "  c{\n",
    "    width:25;\n",
    "    height:260;\n",
    "    left:0;top:40;\n",
    "    box-shadow:397q 0 #611B1A;\n",
    "  }"
   ]
  },
  {
   "cell_type": "markdown",
   "metadata": {},
   "source": [
    "Code Optimisé en une seule ligne : "
   ]
  },
  {
   "cell_type": "code",
   "execution_count": null,
   "metadata": {
    "vscode": {
     "languageId": "html"
    }
   },
   "outputs": [],
   "source": [
    "<a></a><b></b><c></c><style>*{background: #611B1A;position:fixed}a,b{width:240;height:290;border:solid 40px #F16B4A;border-radius:0 99em 0 0;left:-16;top:-5}b{background:transparent;border-radius:90em 0 0 0;left:95}c{width:25;height:260;left:0;top:40;box-shadow:397q 0 #611B1A}"
   ]
  },
  {
   "cell_type": "markdown",
   "metadata": {},
   "source": [
    "### Niveau quotidient du 04/03/2024 : \n",
    "\n",
    "<img src=\"https://firebasestorage.googleapis.com/v0/b/cssbattleapp.appspot.com/o/user%2Fummd3POvEDfFyeFvVdOMG3OOrwE2%2Ftargets%2Ftarget_8gHmTBO.png?alt=media\">\n",
    "\n",
    "Code Classique : "
   ]
  },
  {
   "cell_type": "code",
   "execution_count": null,
   "metadata": {
    "vscode": {
     "languageId": "html"
    }
   },
   "outputs": [],
   "source": [
    "<a></a><b>\n",
    "    <style>\n",
    "      *{\n",
    "        background:#3A2A5D;position:fixed\n",
    "      }\n",
    "      a {\n",
    "        width: 120;\n",
    "        height: 60;\n",
    "        border:solid 32q #BBB2DB;\n",
    "        border-radius:0 0 9em 9em;\n",
    "        left:110;top:120\n",
    "      }\n",
    "      b{\n",
    "        background:#BBB2DB;\n",
    "        width:180;height:30;\n",
    "        left:110;top:60;\n",
    "        box-shadow:-39q 95q #3A2A5D\n",
    "      }"
   ]
  },
  {
   "cell_type": "markdown",
   "metadata": {},
   "source": [
    "Code Optimisé en une seule ligne : "
   ]
  },
  {
   "cell_type": "code",
   "execution_count": null,
   "metadata": {
    "vscode": {
     "languageId": "html"
    }
   },
   "outputs": [],
   "source": [
    "<a></a><b><style>*{background: #3A2A5D;position:fixed}a{width:120;height:60;border:solid 32q #BBB2DB;border-radius:0 0 9em 9em;left:110;top:120}b{background: #BBB2DB;width:180;height:30;left:110;top:60;box-shadow:-39q 95q #3A2A5D}"
   ]
  },
  {
   "cell_type": "markdown",
   "metadata": {},
   "source": [
    "### Niveau quotidient du 03/03/2024 : \n",
    "\n",
    "<img src =\"https://firebasestorage.googleapis.com/v0/b/cssbattleapp.appspot.com/o/user%2Fummd3POvEDfFyeFvVdOMG3OOrwE2%2Ftargets%2Ftarget_jykqKc8.png?alt=media\">\n",
    "\n",
    "Code Classique : "
   ]
  },
  {
   "cell_type": "code",
   "execution_count": null,
   "metadata": {
    "vscode": {
     "languageId": "html"
    }
   },
   "outputs": [],
   "source": [
    "<a></a>\n",
    "<b></b>\n",
    "<c></c>\n",
    "<d></d>\n",
    "<style>\n",
    "  *{\n",
    "    background:#F48B26;position:fixed\n",
    "  }\n",
    "  a,b,c,d {\n",
    "    width:30;\n",
    "    height:100;\n",
    "    background:#fff;\n",
    "    left:240;top:60;\n",
    "    border-radius:9em;\n",
    "    box-shadow:-117q 85q #fff\n",
    "  }\n",
    "  b,d{\n",
    "    height:90;\n",
    "    left:200;top:50;\n",
    "    box-shadow:-32q 116q #fff\n",
    "  }\n",
    "\n",
    "c,d{\n",
    "  rotate:90deg;\n",
    "  top:155;left:225;\n",
    "}\n",
    "d{\n",
    "  top:120;left:240;\n",
    "}"
   ]
  },
  {
   "cell_type": "markdown",
   "metadata": {},
   "source": [
    "Code Optimisé en une seule ligne : "
   ]
  },
  {
   "cell_type": "code",
   "execution_count": null,
   "metadata": {
    "vscode": {
     "languageId": "html"
    }
   },
   "outputs": [],
   "source": [
    "<a></a><b></b><c></c><d></d><style>*{background: #F48B26;position:fixed}a,b,c,d{width:30;height:100;background: #fff;left:240;top:60;border-radius:9em;box-shadow:-117q 85q #fff}b,d{height:90;left:200;top:50;box-shadow:-32q 116q #fff}c,d{rotate:90deg;top:155;left:225}d{top:120;left:240}"
   ]
  },
  {
   "cell_type": "markdown",
   "metadata": {},
   "source": [
    "### Niveau quotidient du 29/02/2024 : \n",
    "\n",
    "<img src =\"https://firebasestorage.googleapis.com/v0/b/cssbattleapp.appspot.com/o/user%2Fummd3POvEDfFyeFvVdOMG3OOrwE2%2Ftargets%2Ftarget_W0Ie7VG.png?alt=media\">\n",
    "\n",
    "Code Classique : "
   ]
  },
  {
   "cell_type": "code",
   "execution_count": null,
   "metadata": {
    "vscode": {
     "languageId": "html"
    }
   },
   "outputs": [],
   "source": [
    "<a></a>\n",
    "<b></b>\n",
    "<c></c>\n",
    "<d>\n",
    "<style>\n",
    "  *{\n",
    "    background:#0D2328;position:fixed\n",
    "  }\n",
    "   c{\n",
    "    width:120;\n",
    "    height:85;\n",
    "    border:solid 20px #9ED7F8;\n",
    "    border-radius:0 0 9em 9em;\n",
    "    border-top:#0D2328;\n",
    "    left:120;top:170;\n",
    "    z-index:0; \n",
    "  }\n",
    "  a,b{\n",
    "    width: 160px;\n",
    "    height: 120px;\n",
    "    background:#9ED7F8;\n",
    "    border-radius:9em 9em 0 0;\n",
    "    left:120;top:25;\n",
    "    z-index:1;\n",
    "  }\n",
    "  b{\n",
    "    width:20;height:120;\n",
    "    top:136;left:190\n",
    "  }\n",
    "  d{\n",
    "    border-radius:9em;\n",
    "    width:20;height:20;\n",
    "    background:#9ED7F8;\n",
    "    left:120;top:165;\n",
    "    box-shadow:148q 0 #9ED7F8\n",
    "  }"
   ]
  },
  {
   "cell_type": "markdown",
   "metadata": {},
   "source": [
    "Code Optimisé en une seule ligne : "
   ]
  },
  {
   "cell_type": "code",
   "execution_count": null,
   "metadata": {
    "vscode": {
     "languageId": "html"
    }
   },
   "outputs": [],
   "source": [
    "<a></a><b></b><c></c><d><style>*{background: #0D2328;position:fixed}c{width:120;height:85;border:solid 20px #9ED7F8;border-radius:0 0 9em 9em;border-top: #0D2328;left:120;top:170;z-index:0}a,b{width:160px;height:120px;background: #9ED7F8;border-radius:9em 9em 0 0;left:120;top:25;z-index:1}b{width:20;height:120;top:136;left:190}d{border-radius:9em;width:20;height:20;background: #9ED7F8;left:120;top:165;box-shadow:148q 0 #9ED7F8}"
   ]
  },
  {
   "cell_type": "markdown",
   "metadata": {},
   "source": [
    "### Niveau quotidient du 28/02/2024 : \n",
    "\n",
    "<img src =\"https://firebasestorage.googleapis.com/v0/b/cssbattleapp.appspot.com/o/user%2Fummd3POvEDfFyeFvVdOMG3OOrwE2%2Ftargets%2Ftarget_W8dkgqG.png?alt=media\">\n",
    "\n",
    "Code Classique : "
   ]
  },
  {
   "cell_type": "code",
   "execution_count": null,
   "metadata": {
    "vscode": {
     "languageId": "html"
    }
   },
   "outputs": [],
   "source": [
    "<a></a>\n",
    "<b></b>\n",
    "<c></c>\n",
    "<d></d>\n",
    "<e>\n",
    "<style>\n",
    "  *{\n",
    "    position:fixed;background:#ACDDF9;margin:0\n",
    "  }\n",
    "  a,b,c,d,e{\n",
    "    width:140;\n",
    "    height:210;\n",
    "    background:#0C6DA2;\n",
    "    box-shadow:275q 95q #0C6DA2\n",
    "  }\n",
    "  b,c{\n",
    "    width:20;\n",
    "    height:130;\n",
    "    left:160;\n",
    "    box-shadow:63.5q 180q #0C6DA2\n",
    "  }\n",
    "  c{\n",
    "    height:80;\n",
    "    top:170;\n",
    "    box-shadow:63.5q -127.5q#0C6DA2\n",
    "  }\n",
    "  d,e{\n",
    "    width:165;\n",
    "    height:20;\n",
    "    top:230;\n",
    "    box-shadow:254q -191q #0C6DA2\n",
    "  }\n",
    "  e{\n",
    "    width:40;\n",
    "    left:180;\n",
    "    top:110;\n",
    "    box-shadow:0 63q #0C6DA2\n",
    "  }\n"
   ]
  },
  {
   "cell_type": "markdown",
   "metadata": {},
   "source": [
    "Code Optimisé en une seule ligne : "
   ]
  },
  {
   "cell_type": "code",
   "execution_count": null,
   "metadata": {
    "vscode": {
     "languageId": "html"
    }
   },
   "outputs": [],
   "source": [
    "<a></a><b></b><c></c><d></d><e><style>*{position:fixed;background: #ACDDF9;margin:0}a,b,c,d,e{width:140;height:210;background: #0C6DA2;box-shadow:275q 95q #0C6DA2}b,c{width:20;height:130;left:160;box-shadow:63.5q 180q #0C6DA2}c{height:80;top:170;box-shadow:63.5q -127.5q #0C6DA2}d,e{width:165;height:20;top:230;box-shadow:254q -191q #0C6DA2}e{width:40;left:180;top:110;box-shadow:0 63q #0C6DA2}"
   ]
  },
  {
   "cell_type": "markdown",
   "metadata": {},
   "source": [
    "### Niveau quotuidient du 27/02/2024 : \n",
    "\n",
    "<img src = \"https://firebasestorage.googleapis.com/v0/b/cssbattleapp.appspot.com/o/user%2Fummd3POvEDfFyeFvVdOMG3OOrwE2%2Ftargets%2Ftarget_p0WUACe.png?alt=media\">\n",
    "\n",
    "Code Classique : "
   ]
  },
  {
   "cell_type": "code",
   "execution_count": null,
   "metadata": {
    "vscode": {
     "languageId": "html"
    }
   },
   "outputs": [],
   "source": [
    "<a></a>\n",
    "<b></b>\n",
    "<style>\n",
    "  *{\n",
    "    background:#2E0040;position:fixed\n",
    "  }\n",
    "  a,b{\n",
    "    width:100;\n",
    "    height: 100;\n",
    "    border-radius:9em;\n",
    "    left:100;top:100;\n",
    "    background:#A94EA4;\n",
    "    box-shadow:106q 0 #A94EA4\n",
    "  }\n",
    "  b{\n",
    "    background:#D3B1D6;\n",
    "    left:149.5;top:49.5;\n",
    "    box-shadow:0 106q #D3B1D6\n",
    "  }"
   ]
  },
  {
   "cell_type": "markdown",
   "metadata": {},
   "source": [
    "Code Optimisé en une seule ligne : "
   ]
  },
  {
   "cell_type": "code",
   "execution_count": null,
   "metadata": {
    "vscode": {
     "languageId": "html"
    }
   },
   "outputs": [],
   "source": [
    "<a></a><b><style>*{background: #2E0040;position:fixed}a,b{width:100;height:100;border-radius:9em;left:100;top:100;background: #A94EA4;box-shadow:106q 0 #A94EA4}b{background: #D3B1D6;left:149.5;top:49.5;box-shadow:0 106q #D3B1D6}"
   ]
  },
  {
   "cell_type": "markdown",
   "metadata": {},
   "source": [
    "### Niveau quotidient du 26/02/2024 : \n",
    "\n",
    "<img src = \"https://firebasestorage.googleapis.com/v0/b/cssbattleapp.appspot.com/o/user%2Fummd3POvEDfFyeFvVdOMG3OOrwE2%2Ftargets%2Ftarget_87hestB.png?alt=media\">\n",
    "\n",
    "Code Classique : "
   ]
  },
  {
   "cell_type": "code",
   "execution_count": null,
   "metadata": {
    "vscode": {
     "languageId": "html"
    }
   },
   "outputs": [],
   "source": [
    "<a></a>\n",
    "<b></b>\n",
    "<c></c>\n",
    "<d>\n",
    "<style>\n",
    "  *{\n",
    "    background:#FEFF89;position:fixed\n",
    "  }\n",
    "  a {\n",
    "    width:200;\n",
    "    height:200;\n",
    "    background:#F59426;\n",
    "    left:100;top:50\n",
    "  }\n",
    "  b{\n",
    "    background:#8A0A06;\n",
    "    width:30;height:30;\n",
    "    border-radius:9em;left:149.5;top:99.5;\n",
    "    border:solid 38q #FEFF89\n",
    "  }\n",
    "  c,d{\n",
    "    background:#8A0A06;\n",
    "    width:30;height:30;\n",
    "    border-radius:9em;\n",
    "    left:120;top:70;\n",
    "    box-shadow:137q 0 #8A0A06\n",
    "  }\n",
    "  d{\n",
    "   top:200 \n",
    "  }"
   ]
  },
  {
   "cell_type": "markdown",
   "metadata": {},
   "source": [
    "Code Optimisé en une sele ligne : "
   ]
  },
  {
   "cell_type": "code",
   "execution_count": null,
   "metadata": {
    "vscode": {
     "languageId": "html"
    }
   },
   "outputs": [],
   "source": [
    "<a></a><b></b><c></c><d><style>*{background: #FEFF89;position:fixed}a{width:200;height:200;background: #F59426;left:100;top:50}b{background: #8A0A06;width:30;height:30;border-radius:9em;left:149.5;top:99.5;border:solid 38q #FEFF89}c,d{background: #8A0A06;width:30;height:30;border-radius:9em;left:120;top:70;box-shadow:137q 0 #8A0A06}d{top:200"
   ]
  },
  {
   "cell_type": "markdown",
   "metadata": {},
   "source": [
    "### Niveau quotidient du 25/02/2024 : \n",
    "\n",
    "<img src=\"https://firebasestorage.googleapis.com/v0/b/cssbattleapp.appspot.com/o/user%2Fummd3POvEDfFyeFvVdOMG3OOrwE2%2Ftargets%2Ftarget_pYkKXWC.png?alt=media\">\n",
    "\n",
    "Code Classique : "
   ]
  },
  {
   "cell_type": "code",
   "execution_count": null,
   "metadata": {
    "vscode": {
     "languageId": "html"
    }
   },
   "outputs": [],
   "source": [
    "<a></a>\n",
    "<b></b>\n",
    "<c></c>\n",
    "<d></d>\n",
    "<e></e>\n",
    "<style>\n",
    "  *{\n",
    "    background:#FAD3E5;position:fixed\n",
    "  }\n",
    "  \n",
    "  a{\n",
    "    width: 101px;\n",
    "    height: 100px;\n",
    "    border:solid 53q #8B0051;\n",
    "    left:100;top:50\n",
    "  }\n",
    "  b,c,d,e{\n",
    "    width:50;\n",
    "    height:10;\n",
    "    background:#FAD3E5;\n",
    "    left:200;top:60;\n",
    "    box-shadow:0 21q #FAD3E5\n",
    "  }\n",
    "  c{\n",
    "    left:150;top:210;\n",
    "  }\n",
    "  d,e{\n",
    "    rotate:90deg;\n",
    "    left:110;top:120\n",
    "  }\n",
    "  e{\n",
    "    left:260;top:170;\n",
    "  }"
   ]
  },
  {
   "cell_type": "markdown",
   "metadata": {},
   "source": [
    "Code Optimisé en une seule ligne : "
   ]
  },
  {
   "cell_type": "code",
   "execution_count": null,
   "metadata": {
    "vscode": {
     "languageId": "html"
    }
   },
   "outputs": [],
   "source": [
    "<a></a><b></b><c></c><d></d><e></e><style>*{background: #FAD3E5;position:fixed}a{width:101px;height:100px;border:solid 53q #8B0051;left:100;top:50}b,c,d,e{width:50;height:10;background: #FAD3E5;left:200;top:60;box-shadow:0 21q #FAD3E5}c{left:150;top:210}d,e{rotate:90deg;left:110;top:120}e{left:260;top:170}"
   ]
  },
  {
   "cell_type": "markdown",
   "metadata": {},
   "source": [
    "### Niveau quotidient du 24/02/2024 : \n",
    "\n",
    "<img src=\"https://firebasestorage.googleapis.com/v0/b/cssbattleapp.appspot.com/o/user%2Fummd3POvEDfFyeFvVdOMG3OOrwE2%2Ftargets%2Ftarget_Z90D6KR.png?alt=media\">\n",
    "\n",
    "Code Classique : "
   ]
  },
  {
   "cell_type": "code",
   "execution_count": null,
   "metadata": {
    "vscode": {
     "languageId": "html"
    }
   },
   "outputs": [],
   "source": [
    "<a></a>\n",
    "<b></b>\n",
    "<c></c>\n",
    "<d></d>\n",
    "<e></e>\n",
    "<f></f>\n",
    "<g></g>\n",
    "<h></h>\n",
    "<i></i>\n",
    "<j>\n",
    "<style>\n",
    "  *{background:#9ED7F8;position:fixed;}\n",
    "  a {\n",
    "    width:300;\n",
    "    height: 120;\n",
    "    background:#277292;\n",
    "    left:50;top:90;\n",
    "    border-radius:21q\n",
    "  }\n",
    "  b,c,d,e,f,g,h,i,j{\n",
    "    background:#fff;\n",
    "  }\n",
    "  b,c,d,e,f,g,h,i{\n",
    "    width:40;\n",
    "    height:20;\n",
    "    top:105;left:65;\n",
    "    border-radius:9em;\n",
    "    box-shadow:243.5q 0 #FFF\n",
    "  }\n",
    "  c{\n",
    "    top:140\n",
    "  }\n",
    "  d{\n",
    "    top:175;\n",
    "  }\n",
    "  e,f,g,h,i{\n",
    "    width:20;height:20;\n",
    "    left:120;top:105;\n",
    "    box-shadow:0 37q #fff\n",
    "  }\n",
    "  f{\n",
    "    left:155\n",
    "  }\n",
    "  g{\n",
    "    left:190\n",
    "  }\n",
    "  h{\n",
    "    left:225;\n",
    "  }\n",
    "  i{\n",
    "    left:260;\n",
    "  }\n",
    "  j{\n",
    "    width:160;\n",
    "    height:20;\n",
    "    border-radius:9em;\n",
    "    top:175;left:120\n",
    "  }"
   ]
  },
  {
   "cell_type": "markdown",
   "metadata": {},
   "source": [
    "Code Optimisé en une seule ligne : "
   ]
  },
  {
   "cell_type": "code",
   "execution_count": null,
   "metadata": {
    "vscode": {
     "languageId": "html"
    }
   },
   "outputs": [],
   "source": [
    "<a></a><b></b><c></c><d></d><e></e><f></f><g></g><h></h><i></i><j><style>*{background: #9ED7F8;position:fixed}a{width:300;height:120;background: #277292;left:50;top:90;border-radius:21q}b,c,d,e,f,g,h,i,j{background: #fff}b,c,d,e,f,g,h,i{width:40;height:20;top:105;left:65;border-radius:9em;box-shadow:243.5q 0 #FFF}c{top:140}d{top:175}e,f,g,h,i{width:20;height:20;left:120;top:105;box-shadow:0 37q #fff}f{left:155}g{left:190}h{left:225}i{left:260}j{width:160;height:20;border-radius:9em;top:175;left:120}"
   ]
  },
  {
   "cell_type": "markdown",
   "metadata": {},
   "source": [
    "### Niveau quotidient du 23/02/2024 : \n",
    "\n",
    "<img src = \"https://firebasestorage.googleapis.com/v0/b/cssbattleapp.appspot.com/o/user%2Fummd3POvEDfFyeFvVdOMG3OOrwE2%2Ftargets%2Ftarget_AyarF6C.png?alt=media\">\n",
    "\n",
    "Code Classique : "
   ]
  },
  {
   "cell_type": "code",
   "execution_count": null,
   "metadata": {
    "vscode": {
     "languageId": "html"
    }
   },
   "outputs": [],
   "source": [
    "<a></a>\n",
    "<b></b>\n",
    "<c></c>\n",
    "<d></d>\n",
    "<e></e>\n",
    "<f></f>\n",
    "<style>\n",
    "  *{\n",
    "    background:#3C1B4A;position:fixed\n",
    "  }\n",
    "  \n",
    "  a,b{\n",
    "    width: 20;\n",
    "    height: 200px;\n",
    "    background:#FCDDEB;\n",
    "    left:190;top:154;\n",
    "    border-radius:50q 0q\n",
    "  }\n",
    " b{\n",
    "   width:20;\n",
    "   height:98.5;\n",
    "   left:320;top:75;\n",
    "   border-radius:0 50q 50q 0;\n",
    " }\n",
    "  c,d{\n",
    "    width:110;\n",
    "    height:20;\n",
    "    background:#FCDDEB;\n",
    "    left:210;top:154;\n",
    "  }\n",
    "  d{\n",
    "    width:200;\n",
    "    left:120;top:75.5;\n",
    "  }\n",
    "  e{\n",
    "    width:10;\n",
    "    height:30;\n",
    "    background:#FCDDEB;\n",
    "    top:70;left:60;\n",
    "  }\n",
    "  f{\n",
    "    width:70;\n",
    "    height:50;\n",
    "    background:#9364C8;\n",
    "    left:70;top:60;\n",
    "    border-radius:0q 10q 10q 0;\n",
    "  }\n",
    "  "
   ]
  },
  {
   "cell_type": "markdown",
   "metadata": {},
   "source": [
    "Code Optimisé en une seule ligne : "
   ]
  },
  {
   "cell_type": "code",
   "execution_count": null,
   "metadata": {
    "vscode": {
     "languageId": "html"
    }
   },
   "outputs": [],
   "source": [
    "<a></a><b></b><c></c><d></d><e></e><f></f><style>*{background: #3C1B4A;position:fixed}a,b{width:20;height:200px;background: #FCDDEB;left:190;top:154;border-radius:50q 0q}b{width:20;height:98.5;left:320;top:75;border-radius:0 50q 50q 0}c,d{width:110;height:20;background: #FCDDEB;left:210;top:154}d{width:200;left:120;top:75.5}e{width:10;height:30;background: #FCDDEB;top:70;left:60}f{width:70;height:50;background: #9364C8;left:70;top:60;border-radius:0q 10q 10q 0}"
   ]
  },
  {
   "cell_type": "markdown",
   "metadata": {},
   "source": [
    "### Niveau quotidient du 22/02/2024 : \n",
    "\n",
    "<img src = \"https://firebasestorage.googleapis.com/v0/b/cssbattleapp.appspot.com/o/user%2Fummd3POvEDfFyeFvVdOMG3OOrwE2%2Ftargets%2Ftarget_a3fQxOQ.png?alt=media\">\n",
    "\n",
    "Code Classique : "
   ]
  },
  {
   "cell_type": "code",
   "execution_count": null,
   "metadata": {
    "vscode": {
     "languageId": "html"
    }
   },
   "outputs": [],
   "source": [
    "<a></a>\n",
    "<b></b>\n",
    "<c></c>\n",
    "<d></d>\n",
    "<e>\n",
    "<style>\n",
    "  *{background:#0D2328;position:fixed;}\n",
    "    a,b,c {\n",
    "    width: 60px;\n",
    "    height: 60px;\n",
    "    border:solid 22q #9ED7F8;\n",
    "    border-radius:9em;\n",
    "    left:149.5;top:40\n",
    "  }\n",
    "  b,c{\n",
    "    left:49.5;top:140\n",
    "  }\n",
    "  c{\n",
    "    left:249.5\n",
    "  }\n",
    "  d,e{\n",
    "    background:#9ED7F8;\n",
    "    width:20;\n",
    "    height:200;\n",
    "    left:190;top:120;\n",
    "  }\n",
    "  e{\n",
    "    top:238;left:90;\n",
    "    box-shadow:211q 0 #9ED7F8\n",
    "  }"
   ]
  },
  {
   "cell_type": "markdown",
   "metadata": {},
   "source": [
    "Code Optimisé en une seule ligne : "
   ]
  },
  {
   "cell_type": "code",
   "execution_count": null,
   "metadata": {
    "vscode": {
     "languageId": "html"
    }
   },
   "outputs": [],
   "source": [
    "<a></a><b></b><c></c><d></d><e><style>*{background: #0D2328;position:fixed}a,b,c{width:60px;height:60px;border:solid 22q #9ED7F8;border-radius:9em;left:149.5;top:40}b,c{left:49.5;top:140}c{left:249.5}d,e{background: #9ED7F8;width:20;height:200;left:190;top:120}e{top:238;left:90;box-shadow:211q 0 #9ED7F8}"
   ]
  },
  {
   "cell_type": "markdown",
   "metadata": {},
   "source": [
    "### Niveau quotidient du 21/02/2024 : \n",
    "\n",
    "<img src = \"https://firebasestorage.googleapis.com/v0/b/cssbattleapp.appspot.com/o/user%2Fummd3POvEDfFyeFvVdOMG3OOrwE2%2Ftargets%2Ftarget_6S7YCBv.png?alt=media\">\n",
    "\n",
    "Code Classique : "
   ]
  },
  {
   "cell_type": "code",
   "execution_count": null,
   "metadata": {
    "vscode": {
     "languageId": "html"
    }
   },
   "outputs": [],
   "source": [
    "<a></a>\n",
    "<b></b>\n",
    "<c></c>\n",
    "<d></d>\n",
    "<style>\n",
    "  *{position:fixed;background:#ACDDF9}\n",
    "  a {\n",
    "    width: 400;\n",
    "    height: 300;\n",
    "    background:#0A6B91;\n",
    "    clip-path: polygon(\n",
    "      25% 29.5%,\n",
    "      66% 29.5%,\n",
    "      75% 41%,\n",
    "      75% 71%,\n",
    "      25% 71%);\n",
    "    left:0;top:-0.5\n",
    "  }\n",
    "  b{\n",
    "    width:100;\n",
    "    height:75;\n",
    "    left:125;top:113;\n",
    "    border-radius:10q;\n",
    "  }\n",
    "  c,d{\n",
    "    background:#0A6B91;\n",
    "    width:5;height:80;\n",
    "    left:150;top:110;\n",
    "  }\n",
    "  c{\n",
    "    box-shadow:47q 0 #0A6B91;\n",
    "  }\n",
    "  d{\n",
    "    rotate:90deg;height:105;top:98;left:172\n",
    "  }\n"
   ]
  },
  {
   "cell_type": "markdown",
   "metadata": {},
   "source": [
    "Code Optimisé en une seule ligne : "
   ]
  },
  {
   "cell_type": "code",
   "execution_count": null,
   "metadata": {
    "vscode": {
     "languageId": "html"
    }
   },
   "outputs": [],
   "source": [
    "<a></a><b></b><c></c><d></d><style>*{position:fixed;background: #ACDDF9}a{width:400;height:300;background: #0A6B91;clip-path:polygon(25%29.5%,66%29.5%,75%41%,75%71%,25%71%);left:0;top:-0.5}b{width:100;height:75;left:125;top:113;border-radius:10q}c,d{background: #0A6B91;width:5;height:80;left:150;top:110}c{box-shadow:47q 0 #0A6B91}d{rotate:90deg;height:105;top:98;left:172}"
   ]
  },
  {
   "cell_type": "markdown",
   "metadata": {},
   "source": [
    "### Niveau quotidient du 20/02/2024 : \n",
    "\n",
    "<img src = \"https://firebasestorage.googleapis.com/v0/b/cssbattleapp.appspot.com/o/user%2Fummd3POvEDfFyeFvVdOMG3OOrwE2%2Ftargets%2Ftarget_3ZOHlmq.png?alt=media\">\n",
    "\n",
    "Code Classique : "
   ]
  },
  {
   "cell_type": "code",
   "execution_count": null,
   "metadata": {
    "vscode": {
     "languageId": "html"
    }
   },
   "outputs": [],
   "source": [
    "<a></a>\n",
    "<b></b>\n",
    "<c>\n",
    "<style>\n",
    "  *{\n",
    "      background:#4A1818;position:fixed;\n",
    "  }\n",
    "  a,b{\n",
    "    width:40px;\n",
    "    height:120px;\n",
    "    left:100;top:50;\n",
    "    border:solid 43q #F16B4A;\n",
    "    border-right:#4A1818;\n",
    "  }\n",
    "  b{\n",
    "    rotate:180deg;\n",
    "    left:220;\n",
    "  }\n",
    "  c{\n",
    "    width:60;\n",
    "    height:60;\n",
    "    background:#F16B4A;\n",
    "    left:170;top:120\n",
    "  }"
   ]
  },
  {
   "cell_type": "markdown",
   "metadata": {},
   "source": [
    "Code Optimisé en une seule ligne : "
   ]
  },
  {
   "cell_type": "code",
   "execution_count": null,
   "metadata": {
    "vscode": {
     "languageId": "html"
    }
   },
   "outputs": [],
   "source": [
    "<a></a><b></b><c><style>*{background: #4A1818;position:fixed}a,b{width:40px;height:120px;left:100;top:50;border:solid 43q #F16B4A;border-right: #4A1818}b{rotate:180deg;left:220}c{width:60;height:60;background: #F16B4A;left:170;top:120}"
   ]
  },
  {
   "cell_type": "markdown",
   "metadata": {},
   "source": [
    "### Niveau quotidient du 19/02/2024 : \n",
    "\n",
    "<img src = \"https://firebasestorage.googleapis.com/v0/b/cssbattleapp.appspot.com/o/user%2Fummd3POvEDfFyeFvVdOMG3OOrwE2%2Ftargets%2Ftarget_LQCtGP8.png?alt=media\">\n",
    "\n",
    "Code Classique : "
   ]
  },
  {
   "cell_type": "code",
   "execution_count": null,
   "metadata": {
    "vscode": {
     "languageId": "html"
    }
   },
   "outputs": [],
   "source": [
    "<a></a>\n",
    "<b></b>\n",
    "<c></c>\n",
    "<d></d>\n",
    "<e></e>\n",
    "<f></f>\n",
    "<g>\n",
    "<style>\n",
    "*{\n",
    "  position:fixed;background:#F49FC7\n",
    "}\n",
    "  \n",
    "  a, b, c,e{\n",
    "    width:390;\n",
    "    height:31;\n",
    "    background:#810070;\n",
    "    rotate:51.5deg;\n",
    "    left:119;top:202;\n",
    "  }\n",
    "  b,e{\n",
    "    rotate:-51.5deg;\n",
    "    left:-110;\n",
    "  }\n",
    "\n",
    "  c{\n",
    "    top:328;\n",
    "  }\n",
    "  e{\n",
    "    top:327;\n",
    "  }\n",
    "\n",
    "  f,g{\n",
    "    width:100;\n",
    "    height:100;\n",
    "    background:#810070;\n",
    "    rotate:45deg;\n",
    "    left:150;top:240\n",
    "  }\n",
    "  g{\n",
    "    width:9;\n",
    "    height:9;\n",
    "    top:52;left:195;\n",
    "    box-shadow:94q 94q #810070;\n",
    "  }"
   ]
  },
  {
   "cell_type": "markdown",
   "metadata": {},
   "source": [
    "Code Opimisé en une seule ligne : "
   ]
  },
  {
   "cell_type": "code",
   "execution_count": null,
   "metadata": {
    "vscode": {
     "languageId": "html"
    }
   },
   "outputs": [],
   "source": [
    "<a></a><b></b><c></c><d></d><e></e><f></f><g><style>*{position:fixed;background: #F49FC7}a,b,c,e{width:390;height:31;background: #810070;rotate:51.5deg;left:119;top:202}b,e{rotate:-51.5deg;left:-110}c{top:328}e{top:327}f,g{width:100;height:100;background: #810070;rotate:45deg;left:150;top:240}g{width:9;height:9;top:52;left:195;box-shadow:94q 94q #810070}"
   ]
  },
  {
   "cell_type": "markdown",
   "metadata": {},
   "source": [
    "### Niveau quotidient du 18/02/2024 : \n",
    "\n",
    "<img src =\"https://firebasestorage.googleapis.com/v0/b/cssbattleapp.appspot.com/o/user%2Fummd3POvEDfFyeFvVdOMG3OOrwE2%2Ftargets%2Ftarget_ykjLd3c.png?alt=media\">\n",
    "\n",
    "Code Classique : "
   ]
  },
  {
   "cell_type": "code",
   "execution_count": null,
   "metadata": {
    "vscode": {
     "languageId": "html"
    }
   },
   "outputs": [],
   "source": [
    "<div class=\"a\"></div>\n",
    "<div class=\"b\"></div>\n",
    "<div class=\"c\"></div>\n",
    "<div class=\"d\">\n",
    "<style>\n",
    "*{background:#8B0051;position:fixed}\n",
    "  \n",
    "  .a,.b {\n",
    "    width: 81px;\n",
    "    height: 81px;\n",
    "    border-radius:9em;\n",
    "    left:90;top:90;\n",
    "    border:solid 21q;\n",
    "    border-color:#F74444 #F74444 #FCDDEB #FCDDEB;\n",
    "    rotate:-45deg\n",
    "  }\n",
    "  .b{\n",
    "    rotate:135deg;\n",
    "    left:190;top:89.5;\n",
    "  }\n",
    "\n",
    "  .c{\n",
    "    width:19.5;\n",
    "    height:20;\n",
    "    background:#FCDDEB;\n",
    "    border-radius:9em;\n",
    "    left:90; top:140;\n",
    "    box-shadow:212q 0 #F74444;\n",
    "  }\n",
    "\n",
    ".d{\n",
    "  width:20;\n",
    "  height:40;\n",
    "  background:#F74444;\n",
    "  left:190;top:114;\n",
    "  border-radius:13% 87% 0 100% / 100% 100% 0 0\n",
    "}\n"
   ]
  },
  {
   "cell_type": "markdown",
   "metadata": {},
   "source": [
    "Code Optimisé en une seule ligne : "
   ]
  },
  {
   "cell_type": "code",
   "execution_count": null,
   "metadata": {
    "vscode": {
     "languageId": "html"
    }
   },
   "outputs": [],
   "source": [
    "<div class=\"a\"></div><div class=\"b\"></div><div class=\"c\"></div><div class=\"d\"><style>*{background: #8B0051;position:fixed}.a,.b{width:81px;height:81px;border-radius:9em;left:90;top:90;border:solid 21q;border-color: #F74444 #F74444 #FCDDEB #FCDDEB;rotate:-45deg}.b{rotate:135deg;left:190;top:89.5}.c{width:19.5;height:20;background: #FCDDEB;border-radius:9em;left:90;top:140;box-shadow:212q 0 #F74444}.d{width:20;height:40;background: #F74444;left:190;top:114;border-radius:13%87%0 100%/100%100% 0 0"
   ]
  },
  {
   "cell_type": "markdown",
   "metadata": {},
   "source": [
    "### Niveau quotidient du 17/02/2024 : \n",
    "\n",
    "<img src =\"https://firebasestorage.googleapis.com/v0/b/cssbattleapp.appspot.com/o/user%2Fummd3POvEDfFyeFvVdOMG3OOrwE2%2Ftargets%2Ftarget_sSLARHe.png?alt=media\">\n",
    "\n",
    "Code Classique : "
   ]
  },
  {
   "cell_type": "code",
   "execution_count": null,
   "metadata": {
    "vscode": {
     "languageId": "html"
    }
   },
   "outputs": [],
   "source": [
    "<div class=\"a\"></div>\n",
    "<div class=\"b\"></div>\n",
    "<div class=\"c\"></div>\n",
    "<div class=\"d\"></div>\n",
    "<style>\n",
    "    *{background:#B8B4CC;position:fixed}\n",
    "  \n",
    "  div{\n",
    "    width: 50px;\n",
    "    height: 50px;\n",
    "    background:#453867;\n",
    "      border-radius:12q;\n",
    "    rotate:45.5deg\n",
    "  }\n",
    ".a, .b, .c{\n",
    "  left:125.5;top:75.5;\n",
    "    box-shadow:73q -75q #453867\n",
    "}\n",
    "  .b{\n",
    "    left:76;top:124.5;\n",
    "  }\n",
    "  .c{\n",
    "    top:174;\n",
    "  }\n",
    "  .d{\n",
    "    left:274;top:125\n",
    "  }"
   ]
  },
  {
   "cell_type": "markdown",
   "metadata": {},
   "source": [
    "Code Optimisé en une suele ligne : "
   ]
  },
  {
   "cell_type": "code",
   "execution_count": null,
   "metadata": {
    "vscode": {
     "languageId": "html"
    }
   },
   "outputs": [],
   "source": [
    "<div class=\"a\"></div><div class=\"b\"></div><div class=\"c\"></div><div class=\"d\"></div><style>*{background: #B8B4CC;position:fixed}div{width:50px;height:50px;background: #453867;border-radius:12q;rotate:45.5deg}.a,.b,.c{left:125.5;top:75.5;box-shadow:73q -75q #453867}.b{left:76;top:124.5}.c{top:174}.d{left:274;top:125}"
   ]
  },
  {
   "cell_type": "markdown",
   "metadata": {},
   "source": [
    "### Niveau quotidient du 16/02/2024 : \n",
    "\n",
    "<img src = \"https://firebasestorage.googleapis.com/v0/b/cssbattleapp.appspot.com/o/user%2Fummd3POvEDfFyeFvVdOMG3OOrwE2%2Ftargets%2Ftarget_Ctdm4TK.png?alt=media\">\n",
    "\n",
    "Code Classique"
   ]
  },
  {
   "cell_type": "code",
   "execution_count": null,
   "metadata": {
    "vscode": {
     "languageId": "html"
    }
   },
   "outputs": [],
   "source": [
    "<div class=\"a\"></div>\n",
    "<div class=\"b\"></div>\n",
    "<div class=\"c\">\n",
    "<style>\n",
    "  *{\n",
    "    position:fixed;background:#024817\n",
    "  }\n",
    "  div{\n",
    "    background:#CCE9D3;\n",
    "  }\n",
    "  .a,.b,.c{\n",
    "    width:200;\n",
    "    height:40;\n",
    "    left:100;top:130\n",
    "  }\n",
    "  .b{\n",
    "    width:120;\n",
    "    top:75;left:140;\n",
    "    box-shadow:0 116q #CCE9D3\n",
    "  }\n",
    "  .c{\n",
    "    width:40;\n",
    "    left:180;top:55;\n",
    "    box-shadow:0 159q #CCE9D3\n",
    "  }"
   ]
  },
  {
   "cell_type": "markdown",
   "metadata": {},
   "source": [
    "Code Optimisé en une seule ligne : "
   ]
  },
  {
   "cell_type": "code",
   "execution_count": null,
   "metadata": {
    "vscode": {
     "languageId": "html"
    }
   },
   "outputs": [],
   "source": [
    "<div class=\"a\"></div><div class=\"b\"></div><div class=\"c\"><style>*{position:fixed;background: #024817}div{background: #CCE9D3}.a,.b,.c{width:200;height:40;left:100;top:130}.b{width:120;top:75;left:140;box-shadow:0 116q #CCE9D3}.c{width:40;left:180;top:55;box-shadow:0 159q #CCE9D3}"
   ]
  },
  {
   "cell_type": "markdown",
   "metadata": {},
   "source": [
    "### Niveau quotidient du 15/02/2024 : \n",
    "\n",
    "<img src =\"https://firebasestorage.googleapis.com/v0/b/cssbattleapp.appspot.com/o/user%2Fummd3POvEDfFyeFvVdOMG3OOrwE2%2Ftargets%2Ftarget_fNO3HCm.png?alt=media\">\n",
    "\n",
    "Code Classique : \n"
   ]
  },
  {
   "cell_type": "code",
   "execution_count": null,
   "metadata": {
    "vscode": {
     "languageId": "html"
    }
   },
   "outputs": [],
   "source": [
    "<div class=\"a\"></div>\n",
    "<div class=\"b\"></div>\n",
    "<div class=\"c\"></div>\n",
    "<div class=\"d\"></div>\n",
    "<style>\n",
    "  *{background:#C799CA;position:fixed}\n",
    "  .a{\n",
    "    width: 120px;\n",
    "    height: 20px;\n",
    "    background:#613243;\n",
    "    left:0;top:50;\n",
    "    box-shadow:296q 0 #613243 \n",
    "  }\n",
    "\n",
    "  .b, .c{\n",
    "    width:80;\n",
    "    height:120;\n",
    "    border:solid 21q #613243;\n",
    "    left:141;top:51;\n",
    "    border-radius:0 0 9em 9em;\n",
    "    z-index:1\n",
    "  }\n",
    "  .c{\n",
    "    width:160;\n",
    "    height:160;\n",
    "    left:100.5;\n",
    "    z-index:0;\n",
    "  }\n",
    "  .d{\n",
    "    width:20.5;\n",
    "    height:90.5;\n",
    "    background:#C799CA;\n",
    "    left:120;top:50;\n",
    "    box-shadow:148q 0 #C799CA;\n",
    "  }"
   ]
  },
  {
   "cell_type": "markdown",
   "metadata": {},
   "source": [
    "Code Optimisé en une seule ligne : "
   ]
  },
  {
   "cell_type": "code",
   "execution_count": null,
   "metadata": {
    "vscode": {
     "languageId": "html"
    }
   },
   "outputs": [],
   "source": [
    "<div class=\"a\"></div><div class=\"b\"></div><div class=\"c\"></div><div class=\"d\"></div><style>*{background: #C799CA;position:fixed}.a{width:120px;height:20px;background: #613243;left:0;top:50;box-shadow:296q 0 #613243}.b,.c{width:80;height:120;border:solid 21q #613243;left:141;top:51;border-radius:0 0 9em 9em;z-index:1}.c{width:160;height:160;left:100.5;z-index:0}.d{width:20.5;height:90.5;background: #C799CA;left:120;top:50;box-shadow:148q 0 #C799CA}"
   ]
  },
  {
   "cell_type": "markdown",
   "metadata": {},
   "source": [
    "### Niveau quotidient du 14/02/2024 : \n",
    "\n",
    "<img src = \"https://firebasestorage.googleapis.com/v0/b/cssbattleapp.appspot.com/o/user%2Fummd3POvEDfFyeFvVdOMG3OOrwE2%2Ftargets%2Ftarget_PLMY7SE.png?alt=media\">\n",
    "\n",
    "Code Classique : "
   ]
  },
  {
   "cell_type": "code",
   "execution_count": null,
   "metadata": {
    "vscode": {
     "languageId": "html"
    }
   },
   "outputs": [],
   "source": [
    "<div class=\"a\"></div>\n",
    "<div class=\"b\"></div>\n",
    "<div class=\"c\"></div>\n",
    "<div class=\"d\"></div>\n",
    "<style>\n",
    "  \n",
    "*{\n",
    "  background:#2F2E59;position:fixed\n",
    "}\n",
    "  \n",
    "  .a,.b,.c, .d {\n",
    "    width: 210px;\n",
    "    height: 30px;\n",
    "    background: #EEECF6;\n",
    "    left:95;top:59.5;\n",
    "    border-radius:9em;\n",
    "  }\n",
    "  .b{\n",
    "      rotate:90deg;\n",
    "      top:143;left:119;\n",
    "    width:161.5;\n",
    "  }\n",
    "  .c{\n",
    "    width:30;\n",
    "    height:120;\n",
    "    box-shadow: 190q 0 #EEECF6;\n",
    "  }\n",
    "  .d{\n",
    "    width:30;\n",
    "    height:150;\n",
    "    left:140;\n",
    "    box-shadow: 95q 0 #EEECF6;\n",
    "  }\n",
    "\n"
   ]
  },
  {
   "cell_type": "markdown",
   "metadata": {},
   "source": [
    "Code Optimisé sur une seule ligne : "
   ]
  },
  {
   "cell_type": "code",
   "execution_count": null,
   "metadata": {
    "vscode": {
     "languageId": "html"
    }
   },
   "outputs": [],
   "source": [
    "<div class=\"a\"></div><div class=\"b\"></div><div class=\"c\"></div><div class=\"d\"></div><style>*{background: #2F2E59;position:fixed}.a,.b,.c,.d{width:210px;height:30px;background: #EEECF6;left:95;top:59.5;border-radius:9em}.b{rotate:90deg;top:143;left:119;width:161.5}.c{width:30;height:120;box-shadow:190q 0 #EEECF6}.d{width:30;height:150;left:140;box-shadow:95q 0 #EEECF6}"
   ]
  },
  {
   "cell_type": "markdown",
   "metadata": {},
   "source": [
    "### Niveau quotidient du 13/02/2024 : \n",
    "\n",
    "<img src = \"https://firebasestorage.googleapis.com/v0/b/cssbattleapp.appspot.com/o/user%2Fummd3POvEDfFyeFvVdOMG3OOrwE2%2Ftargets%2Ftarget_ryOeLoj.png?alt=media\">\n",
    "\n",
    "Code Classique : \n"
   ]
  },
  {
   "cell_type": "code",
   "execution_count": null,
   "metadata": {
    "vscode": {
     "languageId": "html"
    }
   },
   "outputs": [],
   "source": [
    "<div class=\"a\"></div>\n",
    "<div class=\"b\"></div>\n",
    "<div class=\"c\"></div>\n",
    "<div class=\"d\"></div>\n",
    "<style>\n",
    "  *{position:fixed;background:#4A1818}\n",
    "  .a,.b{\n",
    "    width:80;\n",
    "    height:80;\n",
    "    background:#C31C1D;\n",
    "    border-radius:9em;\n",
    "    top:60;left:160\n",
    "  }\n",
    "  .b{\n",
    "    top:160;left:90;\n",
    "    box-shadow:148q 0 #C31C1D;\n",
    "  }\n",
    "  .c,.d{\n",
    "    background:#C31C1D;\n",
    "    width:70;\n",
    "    height:20;\n",
    "    left:165;top:190;\n",
    "  }\n",
    "  .d{\n",
    "    rotate:90deg;\n",
    "    width:200;\n",
    "    left:100;\n",
    "  }"
   ]
  },
  {
   "cell_type": "markdown",
   "metadata": {},
   "source": [
    "Code Optimisé sur une ligne : "
   ]
  },
  {
   "cell_type": "code",
   "execution_count": null,
   "metadata": {
    "vscode": {
     "languageId": "html"
    }
   },
   "outputs": [],
   "source": [
    "<div class=\"a\"></div><div class=\"b\"></div><div class=\"c\"></div><div class=\"d\"></div><style>*{position:fixed;background: #4A1818}.a,.b{width:80;height:80;background: #C31C1D;border-radius:9em;top:60;left:160}.b{top:160;left:90;box-shadow:148q 0 #C31C1D}.c,.d{background: #C31C1D;width:70;height:20;left:165;top:190;}.d{rotate:90deg;width:200;left:100}"
   ]
  },
  {
   "cell_type": "markdown",
   "metadata": {},
   "source": [
    "### Niveau quotidient du 12/02/2024 : \n",
    "\n",
    "<img src = \"https://firebasestorage.googleapis.com/v0/b/cssbattleapp.appspot.com/o/user%2Fummd3POvEDfFyeFvVdOMG3OOrwE2%2Ftargets%2Ftarget_U535eHq.png?alt=media\">\n",
    "\n",
    "Code Classique : "
   ]
  },
  {
   "cell_type": "code",
   "execution_count": null,
   "metadata": {
    "vscode": {
     "languageId": "html"
    }
   },
   "outputs": [],
   "source": [
    "<div class=\"a\"></div>\n",
    "<div class=\"b\"></div>\n",
    "<div class=\"c\"></div>\n",
    "<style>\n",
    "  body{background:#2BBBF3}\n",
    "  div{position:fixed}\n",
    "  .a,.b,.c{\n",
    "    width:50;\n",
    "    height:100;\n",
    "    background:#D8EFDD;\n",
    "    top:100;left:25;\n",
    "    border-radius:10q\n",
    "  }\n",
    "  .a{\n",
    "    box-shadow:318q 0 #D8EFDD\n",
    "  }\n",
    "  .b{\n",
    "    height:150;\n",
    "    left:100;\n",
    "    top:75;\n",
    "    box-shadow:158.5q 0 #D8EFDD\n",
    "  }\n",
    "  .c{\n",
    "    height:200;\n",
    "    top:50;\n",
    "    left:175\n",
    "  }"
   ]
  },
  {
   "cell_type": "markdown",
   "metadata": {},
   "source": [
    "Code Optimisé en une suele ligne"
   ]
  },
  {
   "cell_type": "code",
   "execution_count": null,
   "metadata": {
    "vscode": {
     "languageId": "html"
    }
   },
   "outputs": [],
   "source": [
    "<div class=\"a\"></div><div class=\"b\"></div><div class=\"c\"></div><style>body{background: #2BBBF3}div{position:fixed}.a,.b,.c{width:50;height:100;background: #D8EFDD;top:100;left:25;border-radius:10q}.a{box-shadow:318q 0 #D8EFDD}.b{height:150;left:100;top:75;box-shadow:158.5q 0 #D8EFDD}.c{height:200;top:50;left:175}"
   ]
  },
  {
   "cell_type": "markdown",
   "metadata": {},
   "source": [
    "### Niveau quotidient du 11/02/2024 : </br>\n",
    "<img src = \"https://firebasestorage.googleapis.com/v0/b/cssbattleapp.appspot.com/o/user%2Fummd3POvEDfFyeFvVdOMG3OOrwE2%2Ftargets%2Ftarget_UCjPjnI.png?alt=media\"> </br>\n",
    "\n",
    "</br>\n",
    "Code Classique : "
   ]
  },
  {
   "cell_type": "code",
   "execution_count": null,
   "metadata": {
    "vscode": {
     "languageId": "html"
    }
   },
   "outputs": [],
   "source": [
    "<div class=\"a\"></div>\n",
    "<div class=\"b\"></div>\n",
    "<div class=\"c\"></div>\n",
    "<div class=\"d\"></div>\n",
    "<div class=\"e\"></div>\n",
    "<div class=\"f\"></div>\n",
    "<style>\n",
    "body{background:#5F0032}\n",
    "  div{position:absolute;\n",
    "      background:#F180B6;\n",
    "     }\n",
    "  \n",
    "  .a,.b,.c,.d,.e,.f{\n",
    "    width:100;\n",
    "    height:100;\n",
    "    border-radius:9em;\n",
    "    top:40;left:150;\n",
    "  }\n",
    "  .b{\n",
    "    top:160\n",
    "  }\n",
    "\n",
    "  .c,.d{\n",
    "    width:50;\n",
    "    border-radius:0 80q 80q 0;\n",
    "    left:250;\n",
    "  }\n",
    "  .d{\n",
    "    left:300\n",
    "  }\n",
    "  .e,.f{\n",
    "    top:160;\n",
    "    width:50;\n",
    "    border-radius:80q 0 0 80q;\n",
    "    left:100;\n",
    "  }\n",
    "  .f{\n",
    "    left:50\n",
    "  }"
   ]
  },
  {
   "cell_type": "markdown",
   "metadata": {},
   "source": [
    "Code Optimisé en une seule ligne : "
   ]
  },
  {
   "cell_type": "code",
   "execution_count": null,
   "metadata": {
    "vscode": {
     "languageId": "html"
    }
   },
   "outputs": [],
   "source": [
    "<div class=\"a\"></div><div class=\"b\"></div><div class=\"c\"></div><div class=\"d\"></div><div class=\"e\"></div><div class=\"f\"></div><style>body{background: #5F0032}div{position:absolute;background: #F180B6;}.a,.b,.c,.d,.e,.f{width:100;height:100;border-radius:9em;top:40;left:150;}.b{top:160}.c,.d{width:50;border-radius:0 80q 80q 0;left:250;}.d{left:300}.e,.f{top:160;width:50;border-radius:80q 0 0 80q;left:100;}.f{left:50}"
   ]
  },
  {
   "cell_type": "markdown",
   "metadata": {},
   "source": [
    "### Niveau quotidient du 10/02/2024 : <br> \n",
    "<img src = \"https://firebasestorage.googleapis.com/v0/b/cssbattleapp.appspot.com/o/user%2Fummd3POvEDfFyeFvVdOMG3OOrwE2%2Ftargets%2Ftarget_oL80yny.png?alt=media\"> </br>\n",
    "\n",
    "</br>\n",
    "Code Classique : \n",
    "\n"
   ]
  },
  {
   "cell_type": "code",
   "execution_count": null,
   "metadata": {
    "vscode": {
     "languageId": "html"
    }
   },
   "outputs": [],
   "source": [
    "<div class=\"a\"></div>\n",
    "<div class=\"b\"></div>\n",
    "<div class=\"c\"></div>\n",
    "<div class=\"d\"></div>\n",
    "<style>\n",
    "*{background:#024817;position:fixed}\n",
    "  .a{\n",
    "    width:180;\n",
    "    height:180;\n",
    "    background:#fff;\n",
    "  left:110;top:60\n",
    "  }\n",
    "  .b,.c,.d{\n",
    "    background:#024817;\n",
    "    width:30;\n",
    "    height:60;\n",
    "    top:90;left:170\n",
    "  }\n",
    "  .b{\n",
    "    left:230;\n",
    "  }\n",
    "  .c{\n",
    "    height:120;\n",
    "    rotate:90deg;\n",
    "    top:135;left:185\n",
    "  }"
   ]
  },
  {
   "cell_type": "markdown",
   "metadata": {},
   "source": [
    "Code Opimisé en une seule ligne  : "
   ]
  },
  {
   "cell_type": "code",
   "execution_count": null,
   "metadata": {
    "vscode": {
     "languageId": "html"
    }
   },
   "outputs": [],
   "source": [
    "<div class=\"d\"></div><div class=\"a\"></div><div class=\"b\"></div><div class=\"c\"></div><style>*{background:#024817;position:fixed}.d{width:180;height:180;background:#fff;left:110;top:60}.a,.b,.c{background:#024817;width:30;height:60;top:90;left:170}.b{left:230;}.c{height:120;rotate:90deg;top:135;left:185}"
   ]
  },
  {
   "cell_type": "markdown",
   "metadata": {},
   "source": [
    "### Niveau Quotidient du 09/02/2024 : </br>\n",
    "\n",
    "<img src = \"https://firebasestorage.googleapis.com/v0/b/cssbattleapp.appspot.com/o/user%2Fummd3POvEDfFyeFvVdOMG3OOrwE2%2Ftargets%2Ftarget_le0q4S1.png?alt=media\"> </br>\n",
    "\n",
    "Code Classique : \n",
    "\n"
   ]
  },
  {
   "cell_type": "code",
   "execution_count": null,
   "metadata": {
    "vscode": {
     "languageId": "html"
    }
   },
   "outputs": [],
   "source": [
    "<div class=\"a\"></div>\n",
    "<div class=\"b\"></div>\n",
    "<div class=\"c\"></div>\n",
    "<div class=\"d\"></div>\n",
    "<div class=\"e\"></div>\n",
    "<style>\n",
    "  *{background:#1E1D50;position:fixed}\n",
    ".a{\n",
    "    width:100;\n",
    "    height:139;\n",
    "    background:#EEECF6;\n",
    "    left:150;top:80;\n",
    "    border-radius:99q\n",
    "  }\n",
    ".b{\n",
    "  width:139;\n",
    "  height:179;\n",
    "  background:transparent;\n",
    "  left:110;top:40;\n",
    "  border-radius: 13em;\n",
    "  border:solid 22q #EEECF6\n",
    "}\n",
    ".c,.d {\n",
    "  width:50;\n",
    "  height:19.5;\n",
    "  left:150;top:120\n",
    "}\n",
    ".d{\n",
    "  top:160\n",
    "}\n",
    ".e{\n",
    "  width:20;\n",
    "  height:90;\n",
    "  background:#EEECF6;\n",
    "  top:217;\n",
    "  left:190;\n",
    "}"
   ]
  },
  {
   "cell_type": "markdown",
   "metadata": {},
   "source": [
    "Code Optimisé en une seule ligne : "
   ]
  },
  {
   "cell_type": "code",
   "execution_count": null,
   "metadata": {
    "vscode": {
     "languageId": "html"
    }
   },
   "outputs": [],
   "source": [
    "<div class=\"a\"></div><div class=\"b\"></div><div class=\"c\"></div><div class=\"d\"></div><div class=\"e\"></div><style>*{background:#1E1D50;position:fixed}.a{width:100;height:139;background:#EEECF6;left:150;top:80;border-radius:99q}.b{width:139;height:179;background:transparent;left:110;top:40;border-radius:13em;border:solid 22q#EEECF6}.c,.d{width:50;height:19.5;left:150;top:120}.d{top:160}.e{width:20;height:90;background:#EEECF6;top:217;left:190}"
   ]
  }
 ],
 "metadata": {
  "kernelspec": {
   "display_name": "Python 3",
   "language": "python",
   "name": "python3"
  },
  "language_info": {
   "codemirror_mode": {
    "name": "ipython",
    "version": 3
   },
   "file_extension": ".py",
   "mimetype": "text/x-python",
   "name": "python",
   "nbconvert_exporter": "python",
   "pygments_lexer": "ipython3",
   "version": "3.11.8"
  }
 },
 "nbformat": 4,
 "nbformat_minor": 2
}
